{
 "cells": [
  {
   "cell_type": "markdown",
   "metadata": {},
   "source": [
    "# Data Wrangling with Python: Activity 1"
   ]
  },
  {
   "cell_type": "markdown",
   "metadata": {},
   "source": [
    "1) Create a list of 100 random numbers"
   ]
  },
  {
   "cell_type": "code",
   "execution_count": 29,
   "metadata": {},
   "outputs": [
    {
     "name": "stdout",
     "output_type": "stream",
     "text": [
      "[81, 10, 98, 67, 47, 66, 24, 49, 74, 6, 38, 60, 31, 7, 77, 89, 40, 99, 19, 26, 68, 39, 1, 4, 2, 0, 58, 89, 32, 92, 28, 93, 39, 27, 60, 67, 84, 97, 98, 68, 32, 15, 89, 62, 33, 3, 21, 18, 4, 6, 64, 20, 22, 63, 91, 24, 10, 50, 3, 5, 80, 69, 19, 7, 68, 82, 87, 37, 96, 19, 91, 63, 2, 26, 10, 69, 81, 39, 97, 76, 97, 94, 45, 53, 81, 82, 67, 39, 86, 80, 45, 83, 54, 26, 23, 29, 74, 78, 63, 100]\n"
     ]
    }
   ],
   "source": [
    "import random\n",
    "list_1 = [random.randint(0,100)for x in range(0,100)]\n",
    "print(list_1)"
   ]
  },
  {
   "cell_type": "markdown",
   "metadata": {},
   "source": [
    "2) Create a new list from this random list, with numbers divisible by 3"
   ]
  },
  {
   "cell_type": "code",
   "execution_count": 30,
   "metadata": {},
   "outputs": [
    {
     "name": "stdout",
     "output_type": "stream",
     "text": [
      "[81, 66, 24, 6, 60, 99, 39, 0, 93, 39, 27, 60, 84, 15, 33, 3, 21, 18, 6, 63, 24, 3, 69, 87, 96, 63, 69, 81, 39, 45, 81, 39, 45, 54, 78, 63]\n"
     ]
    }
   ],
   "source": [
    "list_2 = [x for x in list_1 if x%3 == 0]\n",
    "print(list_2)"
   ]
  },
  {
   "cell_type": "markdown",
   "metadata": {},
   "source": [
    "3) Calculate the length of the two lists and store the difference in a new variable"
   ]
  },
  {
   "cell_type": "code",
   "execution_count": 31,
   "metadata": {},
   "outputs": [
    {
     "name": "stdout",
     "output_type": "stream",
     "text": [
      "64\n"
     ]
    }
   ],
   "source": [
    "difference = len(list_1)-len(list_2)\n",
    "print(difference)"
   ]
  },
  {
   "cell_type": "markdown",
   "metadata": {},
   "source": [
    "4) Using a loop, perform steps 2 and 3 and find the difference variable 3 times"
   ]
  },
  {
   "cell_type": "code",
   "execution_count": 34,
   "metadata": {},
   "outputs": [],
   "source": [
    "n=3\n",
    "difference_list = []\n",
    "for i in range(0,n):\n",
    "    difference = len(list_1)-len(list_2)\n",
    "    difference_list.append(difference)"
   ]
  },
  {
   "cell_type": "code",
   "execution_count": 35,
   "metadata": {},
   "outputs": [
    {
     "name": "stdout",
     "output_type": "stream",
     "text": [
      "[64, 64, 64]\n"
     ]
    }
   ],
   "source": [
    "print(difference_list)"
   ]
  },
  {
   "cell_type": "markdown",
   "metadata": {},
   "source": [
    "5) Find the arithmetic mean of these 3 difference values"
   ]
  },
  {
   "cell_type": "code",
   "execution_count": 37,
   "metadata": {},
   "outputs": [
    {
     "name": "stdout",
     "output_type": "stream",
     "text": [
      "64.0\n"
     ]
    }
   ],
   "source": [
    "total_difference = sum(difference_list)\n",
    "mean = total_difference/len(difference_list)\n",
    "print(mean)"
   ]
  },
  {
   "cell_type": "markdown",
   "metadata": {},
   "source": [
    "# Data Wrangling with Python: Activity 2"
   ]
  },
  {
   "cell_type": "markdown",
   "metadata": {},
   "source": [
    "1) Create a mutliline_text variable by copying the text from the first chapter of Pride and Prejudice"
   ]
  },
  {
   "cell_type": "code",
   "execution_count": 22,
   "metadata": {},
   "outputs": [],
   "source": [
    "multiline_text = \"\"\"\"It is a truth universally acknowledged, that a single man in possession of a good fortune, must be in want of a wife.\n",
    "\n",
    "However little known the feelings or views of such a man may be on his first entering a neighbourhood, this truth is so well fixed in the minds of the surrounding families, that he is considered the rightful property of some one or other of their daughters.\n",
    "\n",
    "\"My dear Mr. Bennet,\" said his lady to him one day, \"have you heard that Netherfield Park is let at last?\"\n",
    "\n",
    "Mr. Bennet replied that he had not.\n",
    "\n",
    "\"But it is,\" returned she; \"for Mrs. Long has just been here, and she told me all about it.\"\n",
    "\n",
    "Mr. Bennet made no answer.\n",
    "\n",
    "\"Do you not want to know who has taken it?\" cried his wife impatiently.\n",
    "\n",
    "\"You want to tell me, and I have no objection to hearing it.\"\n",
    "\n",
    "This was invitation enough.\n",
    "\n",
    "\"Why, my dear, you must know, Mrs. Long says that Netherfield is taken by a young man of large fortune from the north of England; that he came down on Monday in a chaise and four to see the place, and was so much delighted with it, that he agreed with Mr. Morris immediately; that he is to take possession before Michaelmas, and some of his servants are to be in the house by the end of next week.\"\n",
    "\n",
    "\"What is his name?\"\n",
    "\n",
    "\"Bingley.\"\n",
    "\n",
    "\"Is he married or single?\"\n",
    "\n",
    "\"Oh! Single, my dear, to be sure! A single man of large fortune; four or five thousand a year. What a fine thing for our girls!\"\n",
    "\n",
    "It is a truth universally acknowledged, that a single man in possession of a good fortune, must be in want of a wife.\n",
    "\n",
    "However little known the feelings or views of such a man may be on his first entering a neighbourhood, this truth is so well fixed in the minds of the surrounding families, that he is considered the rightful property of some one or other of their daughters.\n",
    "\n",
    "\"My dear Mr. Bennet,\" said his lady to him one day, \"have you heard that Netherfield Park is let at last?\"\n",
    "\n",
    "Mr. Bennet replied that he had not.\n",
    "\n",
    "\"But it is,\" returned she; \"for Mrs. Long has just been here, and she told me all about it.\"\n",
    "\n",
    "Mr. Bennet made no answer.\n",
    "\n",
    "\"Do you not want to know who has taken it?\" cried his wife impatiently.\n",
    "\n",
    "\"You want to tell me, and I have no objection to hearing it.\"\n",
    "\n",
    "This was invitation enough.\n",
    "\n",
    "\"Why, my dear, you must know, Mrs. Long says that Netherfield is taken by a young man of large fortune from the north of England; that he came down on Monday in a chaise and four to see the place, and was so much delighted with it, that he agreed with Mr. Morris immediately; that he is to take possession before Michaelmas, and some of his servants are to be in the house by the end of next week.\"\n",
    "\n",
    "\"What is his name?\"\n",
    "\n",
    "\"Bingley.\"\n",
    "\n",
    "\"Is he married or single?\"\n",
    "\n",
    "\"Oh! Single, my dear, to be sure! A single man of large fortune; four or five thousand a year. What a fine thing for our girls!\"\n",
    "\n",
    "\"How so? How can it affect them?\"\n",
    "\n",
    "\"My dear Mr. Bennet,\" replied his wife, \"how can you be so tiresome! You must know that I am thinking of his marrying one of them.\"\n",
    "\n",
    "\"Is that his design in settling here?\"\n",
    "\n",
    "\"Design! Nonsense, how can you talk so! But it is very likely that he may fall in love with one of them, and therefore you must visit him as soon as he comes.\"\n",
    "\n",
    "\"I see no occasion for that. You and the girls may go, or you may send them by themselves, which perhaps will be still better, for as you are as handsome as any of them, Mr. Bingley may like you the best of the party.\"\n",
    "\n",
    "\"My dear, you flatter me. I certainly have had my share of beauty, but I do not pretend to be anything extraordinary now. When a woman has five grown-up daughters, she ought to give over thinking of her own beauty.\"\n",
    "\n",
    "\"In such cases, a woman has not often much beauty to think of.\"\n",
    "\n",
    "\"But, my dear, you must indeed go and see Mr. Bingley when he comes into the neighbourhood.\"\n",
    "\n",
    "\"It is more than I engage for, I assure you.\"\n",
    "\n",
    "\"But consider your daughters. Only think what an establishment it would be for one of them. Sir William and Lady Lucas are determined to go, merely on that account, for in general, you know, they visit no newcomers. Indeed you must go, for it will be impossible for us to visit him if you do not.\"\n",
    "\n",
    "\"You are over-scrupulous, surely. I dare say Mr. Bingley will be very glad to see you; and I will send a few lines by you to assure him of my hearty consent to his marrying whichever he chooses of the girls; though I must throw in a good word for my little Lizzy.\"\n",
    "\n",
    "\"I desire you will do no such thing. Lizzy is not a bit better than the others; and I am sure she is not half so handsome as Jane, nor half so good-humoured as Lydia. But you are always giving her the preference.\"\n",
    "\n",
    "\"They have none of them much to recommend them,\" replied he; \"they are all silly and ignorant like other girls; but Lizzy has something more of quickness than her sisters.\"\n",
    "\n",
    "\"Mr. Bennet, how can you abuse your own children in such a way? You take delight in vexing me. You have no compassion for my poor nerves.\"\n",
    "\n",
    "\"You mistake me, my dear. I have a high respect for your nerves. They are my old friends. I have heard you mention them with consideration these last twenty years at least.\"\n",
    "\n",
    "\"Ah, you do not know what I suffer.\"\n",
    "\n",
    "\"But I hope you will get over it, and live to see many young men of four thousand a year come into the neighbourhood.\"\n",
    "\n",
    "\"It will be no use to us, if twenty such should come, since you will not visit them.\"\n",
    "\n",
    "\"Depend upon it, my dear, that when there are twenty, I will visit them all.\"\n",
    "\n",
    "Mr. Bennet was so odd a mixture of quick parts, sarcastic humour, reserve, and caprice, that the experience of three-and-twenty years had been insufficient to make his wife understand his character. Her mind was less difficult to develop. She was a woman of mean understanding, little information, and uncertain temper. When she was discontented, she fancied herself nervous. The business of her life was to get her daughters married; its solace was visiting and news.\n",
    "\"\"\"\n",
    "\n"
   ]
  },
  {
   "cell_type": "markdown",
   "metadata": {},
   "source": [
    "2) Find the type and length of the multiline_text string using the commands type and len."
   ]
  },
  {
   "cell_type": "code",
   "execution_count": 23,
   "metadata": {},
   "outputs": [
    {
     "data": {
      "text/plain": [
       "str"
      ]
     },
     "execution_count": 23,
     "metadata": {},
     "output_type": "execute_result"
    }
   ],
   "source": [
    "type(multiline_text)"
   ]
  },
  {
   "cell_type": "code",
   "execution_count": 24,
   "metadata": {},
   "outputs": [
    {
     "data": {
      "text/plain": [
       "5877"
      ]
     },
     "execution_count": 24,
     "metadata": {},
     "output_type": "execute_result"
    }
   ],
   "source": [
    "len(multiline_text)"
   ]
  },
  {
   "cell_type": "markdown",
   "metadata": {},
   "source": [
    "3) Remove all new lines and symbols using the replace function."
   ]
  },
  {
   "cell_type": "code",
   "execution_count": 25,
   "metadata": {},
   "outputs": [
    {
     "name": "stdout",
     "output_type": "stream",
     "text": [
      "\"It is a truth universally acknowledged, that a single man in possession of a good fortune, must be in want of a wife.However little known the feelings or views of such a man may be on his first entering a neighbourhood, this truth is so well fixed in the minds of the surrounding families, that he is considered the rightful property of some one or other of their daughters.\"My dear Mr. Bennet,\" said his lady to him one day, \"have you heard that Netherfield Park is let at last?\"Mr. Bennet replied that he had not.\"But it is,\" returned she; \"for Mrs. Long has just been here, and she told me all about it.\"Mr. Bennet made no answer.\"Do you not want to know who has taken it?\" cried his wife impatiently.\"You want to tell me, and I have no objection to hearing it.\"This was invitation enough.\"Why, my dear, you must know, Mrs. Long says that Netherfield is taken by a young man of large fortune from the north of England; that he came down on Monday in a chaise and four to see the place, and was so much delighted with it, that he agreed with Mr. Morris immediately; that he is to take possession before Michaelmas, and some of his servants are to be in the house by the end of next week.\"\"What is his name?\"\"Bingley.\"\"Is he married or single?\"\"Oh! Single, my dear, to be sure! A single man of large fortune; four or five thousand a year. What a fine thing for our girls!\"It is a truth universally acknowledged, that a single man in possession of a good fortune, must be in want of a wife.However little known the feelings or views of such a man may be on his first entering a neighbourhood, this truth is so well fixed in the minds of the surrounding families, that he is considered the rightful property of some one or other of their daughters.\"My dear Mr. Bennet,\" said his lady to him one day, \"have you heard that Netherfield Park is let at last?\"Mr. Bennet replied that he had not.\"But it is,\" returned she; \"for Mrs. Long has just been here, and she told me all about it.\"Mr. Bennet made no answer.\"Do you not want to know who has taken it?\" cried his wife impatiently.\"You want to tell me, and I have no objection to hearing it.\"This was invitation enough.\"Why, my dear, you must know, Mrs. Long says that Netherfield is taken by a young man of large fortune from the north of England; that he came down on Monday in a chaise and four to see the place, and was so much delighted with it, that he agreed with Mr. Morris immediately; that he is to take possession before Michaelmas, and some of his servants are to be in the house by the end of next week.\"\"What is his name?\"\"Bingley.\"\"Is he married or single?\"\"Oh! Single, my dear, to be sure! A single man of large fortune; four or five thousand a year. What a fine thing for our girls!\"\"How so? How can it affect them?\"\"My dear Mr. Bennet,\" replied his wife, \"how can you be so tiresome! You must know that I am thinking of his marrying one of them.\"\"Is that his design in settling here?\"\"Design! Nonsense, how can you talk so! But it is very likely that he may fall in love with one of them, and therefore you must visit him as soon as he comes.\"\"I see no occasion for that. You and the girls may go, or you may send them by themselves, which perhaps will be still better, for as you are as handsome as any of them, Mr. Bingley may like you the best of the party.\"\"My dear, you flatter me. I certainly have had my share of beauty, but I do not pretend to be anything extraordinary now. When a woman has five grown-up daughters, she ought to give over thinking of her own beauty.\"\"In such cases, a woman has not often much beauty to think of.\"\"But, my dear, you must indeed go and see Mr. Bingley when he comes into the neighbourhood.\"\"It is more than I engage for, I assure you.\"\"But consider your daughters. Only think what an establishment it would be for one of them. Sir William and Lady Lucas are determined to go, merely on that account, for in general, you know, they visit no newcomers. Indeed you must go, for it will be impossible for us to visit him if you do not.\"\"You are over-scrupulous, surely. I dare say Mr. Bingley will be very glad to see you; and I will send a few lines by you to assure him of my hearty consent to his marrying whichever he chooses of the girls; though I must throw in a good word for my little Lizzy.\"\"I desire you will do no such thing. Lizzy is not a bit better than the others; and I am sure she is not half so handsome as Jane, nor half so good-humoured as Lydia. But you are always giving her the preference.\"\"They have none of them much to recommend them,\" replied he; \"they are all silly and ignorant like other girls; but Lizzy has something more of quickness than her sisters.\"\"Mr. Bennet, how can you abuse your own children in such a way? You take delight in vexing me. You have no compassion for my poor nerves.\"\"You mistake me, my dear. I have a high respect for your nerves. They are my old friends. I have heard you mention them with consideration these last twenty years at least.\"\"Ah, you do not know what I suffer.\"\"But I hope you will get over it, and live to see many young men of four thousand a year come into the neighbourhood.\"\"It will be no use to us, if twenty such should come, since you will not visit them.\"\"Depend upon it, my dear, that when there are twenty, I will visit them all.\"Mr. Bennet was so odd a mixture of quick parts, sarcastic humour, reserve, and caprice, that the experience of three-and-twenty years had been insufficient to make his wife understand his character. Her mind was less difficult to develop. She was a woman of mean understanding, little information, and uncertain temper. When she was discontented, she fancied herself nervous. The business of her life was to get her daughters married; its solace was visiting and news.\n"
     ]
    }
   ],
   "source": [
    "multiline_text = multiline_text.replace('\\n', \"\")\n",
    "print(multiline_text)"
   ]
  },
  {
   "cell_type": "markdown",
   "metadata": {},
   "source": [
    "4) Find all of the words in multiline_text using the split function."
   ]
  },
  {
   "cell_type": "code",
   "execution_count": 41,
   "metadata": {},
   "outputs": [
    {
     "name": "stdout",
     "output_type": "stream",
     "text": [
      "It is a truth universally acknowledged that a single man in possession of a good fortune must be in want of a wifeHowever little known the feelings or views of such a man may be on his first entering a neighbourhood this truth is so well fixed in the minds of the surrounding families that he is considered the rightful property of some one or other of their daughtersMy dear Mr Bennet said his lady to him one day have you heard that Netherfield Park is let at lastMr Bennet replied that he had notBut it is returned she for Mrs Long has just been here and she told me all about itMr Bennet made no answerDo you not want to know who has taken it cried his wife impatientlyYou want to tell me and I have no objection to hearing itThis was invitation enoughWhy my dear you must know Mrs Long says that Netherfield is taken by a young man of large fortune from the north of England that he came down on Monday in a chaise and four to see the place and was so much delighted with it that he agreed with Mr Morris immediately that he is to take possession before Michaelmas and some of his servants are to be in the house by the end of next weekWhat is his nameBingleyIs he married or singleOh Single my dear to be sure A single man of large fortune four or five thousand a year What a fine thing for our girlsIt is a truth universally acknowledged that a single man in possession of a good fortune must be in want of a wifeHowever little known the feelings or views of such a man may be on his first entering a neighbourhood this truth is so well fixed in the minds of the surrounding families that he is considered the rightful property of some one or other of their daughtersMy dear Mr Bennet said his lady to him one day have you heard that Netherfield Park is let at lastMr Bennet replied that he had notBut it is returned she for Mrs Long has just been here and she told me all about itMr Bennet made no answerDo you not want to know who has taken it cried his wife impatientlyYou want to tell me and I have no objection to hearing itThis was invitation enoughWhy my dear you must know Mrs Long says that Netherfield is taken by a young man of large fortune from the north of England that he came down on Monday in a chaise and four to see the place and was so much delighted with it that he agreed with Mr Morris immediately that he is to take possession before Michaelmas and some of his servants are to be in the house by the end of next weekWhat is his nameBingleyIs he married or singleOh Single my dear to be sure A single man of large fortune four or five thousand a year What a fine thing for our girlsHow so How can it affect themMy dear Mr Bennet replied his wife how can you be so tiresome You must know that I am thinking of his marrying one of themIs that his design in settling hereDesign Nonsense how can you talk so But it is very likely that he may fall in love with one of them and therefore you must visit him as soon as he comesI see no occasion for that You and the girls may go or you may send them by themselves which perhaps will be still better for as you are as handsome as any of them Mr Bingley may like you the best of the partyMy dear you flatter me I certainly have had my share of beauty but I do not pretend to be anything extraordinary now When a woman has five grownup daughters she ought to give over thinking of her own beautyIn such cases a woman has not often much beauty to think ofBut my dear you must indeed go and see Mr Bingley when he comes into the neighbourhoodIt is more than I engage for I assure youBut consider your daughters Only think what an establishment it would be for one of them Sir William and Lady Lucas are determined to go merely on that account for in general you know they visit no newcomers Indeed you must go for it will be impossible for us to visit him if you do notYou are overscrupulous surely I dare say Mr Bingley will be very glad to see you and I will send a few lines by you to assure him of my hearty consent to his marrying whichever he chooses of the girls though I must throw in a good word for my little LizzyI desire you will do no such thing Lizzy is not a bit better than the others and I am sure she is not half so handsome as Jane nor half so goodhumoured as Lydia But you are always giving her the preferenceThey have none of them much to recommend them replied he they are all silly and ignorant like other girls but Lizzy has something more of quickness than her sistersMr Bennet how can you abuse your own children in such a way You take delight in vexing me You have no compassion for my poor nervesYou mistake me my dear I have a high respect for your nerves They are my old friends I have heard you mention them with consideration these last twenty years at leastAh you do not know what I sufferBut I hope you will get over it and live to see many young men of four thousand a year come into the neighbourhoodIt will be no use to us if twenty such should come since you will not visit themDepend upon it my dear that when there are twenty I will visit them allMr Bennet was so odd a mixture of quick parts sarcastic humour reserve and caprice that the experience of threeandtwenty years had been insufficient to make his wife understand his character Her mind was less difficult to develop She was a woman of mean understanding little information and uncertain temper When she was discontented she fancied herself nervous The business of her life was to get her daughters married its solace was visiting and news\n"
     ]
    }
   ],
   "source": [
    "import string\n",
    "clean_text = multiline_text.translate(str.maketrans(\"\",\"\",string.punctuation))\n",
    "print(clean_text)"
   ]
  },
  {
   "cell_type": "code",
   "execution_count": 42,
   "metadata": {},
   "outputs": [
    {
     "name": "stdout",
     "output_type": "stream",
     "text": [
      "['It', 'is', 'a', 'truth', 'universally', 'acknowledged', 'that', 'a', 'single', 'man', 'in', 'possession', 'of', 'a', 'good', 'fortune', 'must', 'be', 'in', 'want', 'of', 'a', 'wifeHowever', 'little', 'known', 'the', 'feelings', 'or', 'views', 'of', 'such', 'a', 'man', 'may', 'be', 'on', 'his', 'first', 'entering', 'a', 'neighbourhood', 'this', 'truth', 'is', 'so', 'well', 'fixed', 'in', 'the', 'minds', 'of', 'the', 'surrounding', 'families', 'that', 'he', 'is', 'considered', 'the', 'rightful', 'property', 'of', 'some', 'one', 'or', 'other', 'of', 'their', 'daughtersMy', 'dear', 'Mr', 'Bennet', 'said', 'his', 'lady', 'to', 'him', 'one', 'day', 'have', 'you', 'heard', 'that', 'Netherfield', 'Park', 'is', 'let', 'at', 'lastMr', 'Bennet', 'replied', 'that', 'he', 'had', 'notBut', 'it', 'is', 'returned', 'she', 'for', 'Mrs', 'Long', 'has', 'just', 'been', 'here', 'and', 'she', 'told', 'me', 'all', 'about', 'itMr', 'Bennet', 'made', 'no', 'answerDo', 'you', 'not', 'want', 'to', 'know', 'who', 'has', 'taken', 'it', 'cried', 'his', 'wife', 'impatientlyYou', 'want', 'to', 'tell', 'me', 'and', 'I', 'have', 'no', 'objection', 'to', 'hearing', 'itThis', 'was', 'invitation', 'enoughWhy', 'my', 'dear', 'you', 'must', 'know', 'Mrs', 'Long', 'says', 'that', 'Netherfield', 'is', 'taken', 'by', 'a', 'young', 'man', 'of', 'large', 'fortune', 'from', 'the', 'north', 'of', 'England', 'that', 'he', 'came', 'down', 'on', 'Monday', 'in', 'a', 'chaise', 'and', 'four', 'to', 'see', 'the', 'place', 'and', 'was', 'so', 'much', 'delighted', 'with', 'it', 'that', 'he', 'agreed', 'with', 'Mr', 'Morris', 'immediately', 'that', 'he', 'is', 'to', 'take', 'possession', 'before', 'Michaelmas', 'and', 'some', 'of', 'his', 'servants', 'are', 'to', 'be', 'in', 'the', 'house', 'by', 'the', 'end', 'of', 'next', 'weekWhat', 'is', 'his', 'nameBingleyIs', 'he', 'married', 'or', 'singleOh', 'Single', 'my', 'dear', 'to', 'be', 'sure', 'A', 'single', 'man', 'of', 'large', 'fortune', 'four', 'or', 'five', 'thousand', 'a', 'year', 'What', 'a', 'fine', 'thing', 'for', 'our', 'girlsIt', 'is', 'a', 'truth', 'universally', 'acknowledged', 'that', 'a', 'single', 'man', 'in', 'possession', 'of', 'a', 'good', 'fortune', 'must', 'be', 'in', 'want', 'of', 'a', 'wifeHowever', 'little', 'known', 'the', 'feelings', 'or', 'views', 'of', 'such', 'a', 'man', 'may', 'be', 'on', 'his', 'first', 'entering', 'a', 'neighbourhood', 'this', 'truth', 'is', 'so', 'well', 'fixed', 'in', 'the', 'minds', 'of', 'the', 'surrounding', 'families', 'that', 'he', 'is', 'considered', 'the', 'rightful', 'property', 'of', 'some', 'one', 'or', 'other', 'of', 'their', 'daughtersMy', 'dear', 'Mr', 'Bennet', 'said', 'his', 'lady', 'to', 'him', 'one', 'day', 'have', 'you', 'heard', 'that', 'Netherfield', 'Park', 'is', 'let', 'at', 'lastMr', 'Bennet', 'replied', 'that', 'he', 'had', 'notBut', 'it', 'is', 'returned', 'she', 'for', 'Mrs', 'Long', 'has', 'just', 'been', 'here', 'and', 'she', 'told', 'me', 'all', 'about', 'itMr', 'Bennet', 'made', 'no', 'answerDo', 'you', 'not', 'want', 'to', 'know', 'who', 'has', 'taken', 'it', 'cried', 'his', 'wife', 'impatientlyYou', 'want', 'to', 'tell', 'me', 'and', 'I', 'have', 'no', 'objection', 'to', 'hearing', 'itThis', 'was', 'invitation', 'enoughWhy', 'my', 'dear', 'you', 'must', 'know', 'Mrs', 'Long', 'says', 'that', 'Netherfield', 'is', 'taken', 'by', 'a', 'young', 'man', 'of', 'large', 'fortune', 'from', 'the', 'north', 'of', 'England', 'that', 'he', 'came', 'down', 'on', 'Monday', 'in', 'a', 'chaise', 'and', 'four', 'to', 'see', 'the', 'place', 'and', 'was', 'so', 'much', 'delighted', 'with', 'it', 'that', 'he', 'agreed', 'with', 'Mr', 'Morris', 'immediately', 'that', 'he', 'is', 'to', 'take', 'possession', 'before', 'Michaelmas', 'and', 'some', 'of', 'his', 'servants', 'are', 'to', 'be', 'in', 'the', 'house', 'by', 'the', 'end', 'of', 'next', 'weekWhat', 'is', 'his', 'nameBingleyIs', 'he', 'married', 'or', 'singleOh', 'Single', 'my', 'dear', 'to', 'be', 'sure', 'A', 'single', 'man', 'of', 'large', 'fortune', 'four', 'or', 'five', 'thousand', 'a', 'year', 'What', 'a', 'fine', 'thing', 'for', 'our', 'girlsHow', 'so', 'How', 'can', 'it', 'affect', 'themMy', 'dear', 'Mr', 'Bennet', 'replied', 'his', 'wife', 'how', 'can', 'you', 'be', 'so', 'tiresome', 'You', 'must', 'know', 'that', 'I', 'am', 'thinking', 'of', 'his', 'marrying', 'one', 'of', 'themIs', 'that', 'his', 'design', 'in', 'settling', 'hereDesign', 'Nonsense', 'how', 'can', 'you', 'talk', 'so', 'But', 'it', 'is', 'very', 'likely', 'that', 'he', 'may', 'fall', 'in', 'love', 'with', 'one', 'of', 'them', 'and', 'therefore', 'you', 'must', 'visit', 'him', 'as', 'soon', 'as', 'he', 'comesI', 'see', 'no', 'occasion', 'for', 'that', 'You', 'and', 'the', 'girls', 'may', 'go', 'or', 'you', 'may', 'send', 'them', 'by', 'themselves', 'which', 'perhaps', 'will', 'be', 'still', 'better', 'for', 'as', 'you', 'are', 'as', 'handsome', 'as', 'any', 'of', 'them', 'Mr', 'Bingley', 'may', 'like', 'you', 'the', 'best', 'of', 'the', 'partyMy', 'dear', 'you', 'flatter', 'me', 'I', 'certainly', 'have', 'had', 'my', 'share', 'of', 'beauty', 'but', 'I', 'do', 'not', 'pretend', 'to', 'be', 'anything', 'extraordinary', 'now', 'When', 'a', 'woman', 'has', 'five', 'grownup', 'daughters', 'she', 'ought', 'to', 'give', 'over', 'thinking', 'of', 'her', 'own', 'beautyIn', 'such', 'cases', 'a', 'woman', 'has', 'not', 'often', 'much', 'beauty', 'to', 'think', 'ofBut', 'my', 'dear', 'you', 'must', 'indeed', 'go', 'and', 'see', 'Mr', 'Bingley', 'when', 'he', 'comes', 'into', 'the', 'neighbourhoodIt', 'is', 'more', 'than', 'I', 'engage', 'for', 'I', 'assure', 'youBut', 'consider', 'your', 'daughters', 'Only', 'think', 'what', 'an', 'establishment', 'it', 'would', 'be', 'for', 'one', 'of', 'them', 'Sir', 'William', 'and', 'Lady', 'Lucas', 'are', 'determined', 'to', 'go', 'merely', 'on', 'that', 'account', 'for', 'in', 'general', 'you', 'know', 'they', 'visit', 'no', 'newcomers', 'Indeed', 'you', 'must', 'go', 'for', 'it', 'will', 'be', 'impossible', 'for', 'us', 'to', 'visit', 'him', 'if', 'you', 'do', 'notYou', 'are', 'overscrupulous', 'surely', 'I', 'dare', 'say', 'Mr', 'Bingley', 'will', 'be', 'very', 'glad', 'to', 'see', 'you', 'and', 'I', 'will', 'send', 'a', 'few', 'lines', 'by', 'you', 'to', 'assure', 'him', 'of', 'my', 'hearty', 'consent', 'to', 'his', 'marrying', 'whichever', 'he', 'chooses', 'of', 'the', 'girls', 'though', 'I', 'must', 'throw', 'in', 'a', 'good', 'word', 'for', 'my', 'little', 'LizzyI', 'desire', 'you', 'will', 'do', 'no', 'such', 'thing', 'Lizzy', 'is', 'not', 'a', 'bit', 'better', 'than', 'the', 'others', 'and', 'I', 'am', 'sure', 'she', 'is', 'not', 'half', 'so', 'handsome', 'as', 'Jane', 'nor', 'half', 'so', 'goodhumoured', 'as', 'Lydia', 'But', 'you', 'are', 'always', 'giving', 'her', 'the', 'preferenceThey', 'have', 'none', 'of', 'them', 'much', 'to', 'recommend', 'them', 'replied', 'he', 'they', 'are', 'all', 'silly', 'and', 'ignorant', 'like', 'other', 'girls', 'but', 'Lizzy', 'has', 'something', 'more', 'of', 'quickness', 'than', 'her', 'sistersMr', 'Bennet', 'how', 'can', 'you', 'abuse', 'your', 'own', 'children', 'in', 'such', 'a', 'way', 'You', 'take', 'delight', 'in', 'vexing', 'me', 'You', 'have', 'no', 'compassion', 'for', 'my', 'poor', 'nervesYou', 'mistake', 'me', 'my', 'dear', 'I', 'have', 'a', 'high', 'respect', 'for', 'your', 'nerves', 'They', 'are', 'my', 'old', 'friends', 'I', 'have', 'heard', 'you', 'mention', 'them', 'with', 'consideration', 'these', 'last', 'twenty', 'years', 'at', 'leastAh', 'you', 'do', 'not', 'know', 'what', 'I', 'sufferBut', 'I', 'hope', 'you', 'will', 'get', 'over', 'it', 'and', 'live', 'to', 'see', 'many', 'young', 'men', 'of', 'four', 'thousand', 'a', 'year', 'come', 'into', 'the', 'neighbourhoodIt', 'will', 'be', 'no', 'use', 'to', 'us', 'if', 'twenty', 'such', 'should', 'come', 'since', 'you', 'will', 'not', 'visit', 'themDepend', 'upon', 'it', 'my', 'dear', 'that', 'when', 'there', 'are', 'twenty', 'I', 'will', 'visit', 'them', 'allMr', 'Bennet', 'was', 'so', 'odd', 'a', 'mixture', 'of', 'quick', 'parts', 'sarcastic', 'humour', 'reserve', 'and', 'caprice', 'that', 'the', 'experience', 'of', 'threeandtwenty', 'years', 'had', 'been', 'insufficient', 'to', 'make', 'his', 'wife', 'understand', 'his', 'character', 'Her', 'mind', 'was', 'less', 'difficult', 'to', 'develop', 'She', 'was', 'a', 'woman', 'of', 'mean', 'understanding', 'little', 'information', 'and', 'uncertain', 'temper', 'When', 'she', 'was', 'discontented', 'she', 'fancied', 'herself', 'nervous', 'The', 'business', 'of', 'her', 'life', 'was', 'to', 'get', 'her', 'daughters', 'married', 'its', 'solace', 'was', 'visiting', 'and', 'news']\n"
     ]
    }
   ],
   "source": [
    "list_of_words = clean_text.split()\n",
    "print(list_of_words)"
   ]
  },
  {
   "cell_type": "markdown",
   "metadata": {},
   "source": [
    "5) Create a list from this list that will contain only the unique words."
   ]
  },
  {
   "cell_type": "code",
   "execution_count": 44,
   "metadata": {},
   "outputs": [],
   "source": [
    "unique_words = dict.fromkeys(list_of_words)"
   ]
  },
  {
   "cell_type": "markdown",
   "metadata": {},
   "source": [
    "6) Count the number of times the unique word has appeared in the list using the key and value in dict."
   ]
  },
  {
   "cell_type": "code",
   "execution_count": 45,
   "metadata": {},
   "outputs": [],
   "source": [
    "for word in list_of_words:\n",
    "\n",
    "    if unique_words[word] is None:\n",
    "\n",
    "        unique_words[word] = 1\n",
    "\n",
    "    else:\n",
    "\n",
    "        unique_words[word] += 1"
   ]
  },
  {
   "cell_type": "code",
   "execution_count": 46,
   "metadata": {},
   "outputs": [
    {
     "name": "stdout",
     "output_type": "stream",
     "text": [
      "{'It': 1, 'is': 20, 'a': 30, 'truth': 4, 'universally': 2, 'acknowledged': 2, 'that': 23, 'single': 4, 'man': 8, 'in': 16, 'possession': 4, 'of': 39, 'good': 3, 'fortune': 6, 'must': 9, 'be': 15, 'want': 6, 'wifeHowever': 2, 'little': 4, 'known': 2, 'the': 25, 'feelings': 2, 'or': 9, 'views': 2, 'such': 6, 'may': 6, 'on': 5, 'his': 16, 'first': 2, 'entering': 2, 'neighbourhood': 2, 'this': 2, 'so': 10, 'well': 2, 'fixed': 2, 'minds': 2, 'surrounding': 2, 'families': 2, 'he': 17, 'considered': 2, 'rightful': 2, 'property': 2, 'some': 4, 'one': 7, 'other': 3, 'their': 2, 'daughtersMy': 2, 'dear': 11, 'Mr': 8, 'Bennet': 9, 'said': 2, 'lady': 2, 'to': 30, 'him': 5, 'day': 2, 'have': 9, 'you': 26, 'heard': 3, 'Netherfield': 4, 'Park': 2, 'let': 2, 'at': 3, 'lastMr': 2, 'replied': 4, 'had': 4, 'notBut': 2, 'it': 12, 'returned': 2, 'she': 8, 'for': 14, 'Mrs': 4, 'Long': 4, 'has': 7, 'just': 2, 'been': 3, 'here': 2, 'and': 21, 'told': 2, 'me': 7, 'all': 3, 'about': 2, 'itMr': 2, 'made': 2, 'no': 9, 'answerDo': 2, 'not': 8, 'know': 7, 'who': 2, 'taken': 4, 'cried': 2, 'wife': 4, 'impatientlyYou': 2, 'tell': 2, 'I': 16, 'objection': 2, 'hearing': 2, 'itThis': 2, 'was': 10, 'invitation': 2, 'enoughWhy': 2, 'my': 12, 'says': 2, 'by': 6, 'young': 3, 'large': 4, 'from': 2, 'north': 2, 'England': 2, 'came': 2, 'down': 2, 'Monday': 2, 'chaise': 2, 'four': 5, 'see': 6, 'place': 2, 'much': 4, 'delighted': 2, 'with': 6, 'agreed': 2, 'Morris': 2, 'immediately': 2, 'take': 3, 'before': 2, 'Michaelmas': 2, 'servants': 2, 'are': 9, 'house': 2, 'end': 2, 'next': 2, 'weekWhat': 2, 'nameBingleyIs': 2, 'married': 3, 'singleOh': 2, 'Single': 2, 'sure': 3, 'A': 2, 'five': 3, 'thousand': 3, 'year': 3, 'What': 2, 'fine': 2, 'thing': 3, 'our': 2, 'girlsIt': 1, 'girlsHow': 1, 'How': 1, 'can': 4, 'affect': 1, 'themMy': 1, 'how': 3, 'tiresome': 1, 'You': 4, 'am': 2, 'thinking': 2, 'marrying': 2, 'themIs': 1, 'design': 1, 'settling': 1, 'hereDesign': 1, 'Nonsense': 1, 'talk': 1, 'But': 2, 'very': 2, 'likely': 1, 'fall': 1, 'love': 1, 'them': 8, 'therefore': 1, 'visit': 5, 'as': 7, 'soon': 1, 'comesI': 1, 'occasion': 1, 'girls': 3, 'go': 4, 'send': 2, 'themselves': 1, 'which': 1, 'perhaps': 1, 'will': 9, 'still': 1, 'better': 2, 'handsome': 2, 'any': 1, 'Bingley': 3, 'like': 2, 'best': 1, 'partyMy': 1, 'flatter': 1, 'certainly': 1, 'share': 1, 'beauty': 2, 'but': 2, 'do': 4, 'pretend': 1, 'anything': 1, 'extraordinary': 1, 'now': 1, 'When': 2, 'woman': 3, 'grownup': 1, 'daughters': 3, 'ought': 1, 'give': 1, 'over': 2, 'her': 5, 'own': 2, 'beautyIn': 1, 'cases': 1, 'often': 1, 'think': 2, 'ofBut': 1, 'indeed': 1, 'when': 2, 'comes': 1, 'into': 2, 'neighbourhoodIt': 2, 'more': 2, 'than': 3, 'engage': 1, 'assure': 2, 'youBut': 1, 'consider': 1, 'your': 3, 'Only': 1, 'what': 2, 'an': 1, 'establishment': 1, 'would': 1, 'Sir': 1, 'William': 1, 'Lady': 1, 'Lucas': 1, 'determined': 1, 'merely': 1, 'account': 1, 'general': 1, 'they': 2, 'newcomers': 1, 'Indeed': 1, 'impossible': 1, 'us': 2, 'if': 2, 'notYou': 1, 'overscrupulous': 1, 'surely': 1, 'dare': 1, 'say': 1, 'glad': 1, 'few': 1, 'lines': 1, 'hearty': 1, 'consent': 1, 'whichever': 1, 'chooses': 1, 'though': 1, 'throw': 1, 'word': 1, 'LizzyI': 1, 'desire': 1, 'Lizzy': 2, 'bit': 1, 'others': 1, 'half': 2, 'Jane': 1, 'nor': 1, 'goodhumoured': 1, 'Lydia': 1, 'always': 1, 'giving': 1, 'preferenceThey': 1, 'none': 1, 'recommend': 1, 'silly': 1, 'ignorant': 1, 'something': 1, 'quickness': 1, 'sistersMr': 1, 'abuse': 1, 'children': 1, 'way': 1, 'delight': 1, 'vexing': 1, 'compassion': 1, 'poor': 1, 'nervesYou': 1, 'mistake': 1, 'high': 1, 'respect': 1, 'nerves': 1, 'They': 1, 'old': 1, 'friends': 1, 'mention': 1, 'consideration': 1, 'these': 1, 'last': 1, 'twenty': 3, 'years': 2, 'leastAh': 1, 'sufferBut': 1, 'hope': 1, 'get': 2, 'live': 1, 'many': 1, 'men': 1, 'come': 2, 'use': 1, 'should': 1, 'since': 1, 'themDepend': 1, 'upon': 1, 'there': 1, 'allMr': 1, 'odd': 1, 'mixture': 1, 'quick': 1, 'parts': 1, 'sarcastic': 1, 'humour': 1, 'reserve': 1, 'caprice': 1, 'experience': 1, 'threeandtwenty': 1, 'insufficient': 1, 'make': 1, 'understand': 1, 'character': 1, 'Her': 1, 'mind': 1, 'less': 1, 'difficult': 1, 'develop': 1, 'She': 1, 'mean': 1, 'understanding': 1, 'information': 1, 'uncertain': 1, 'temper': 1, 'discontented': 1, 'fancied': 1, 'herself': 1, 'nervous': 1, 'The': 1, 'business': 1, 'life': 1, 'its': 1, 'solace': 1, 'visiting': 1, 'news': 1}\n"
     ]
    }
   ],
   "source": [
    "print(unique_words)"
   ]
  },
  {
   "cell_type": "markdown",
   "metadata": {},
   "source": [
    "7)Find the top 25 words from the unique words that you have found using the slice function"
   ]
  },
  {
   "cell_type": "code",
   "execution_count": 48,
   "metadata": {},
   "outputs": [
    {
     "name": "stdout",
     "output_type": "stream",
     "text": [
      "[('of', 39), ('a', 30), ('to', 30), ('you', 26), ('the', 25), ('that', 23), ('and', 21), ('is', 20), ('he', 17), ('in', 16), ('his', 16), ('I', 16), ('be', 15), ('for', 14), ('it', 12), ('my', 12), ('dear', 11), ('so', 10), ('was', 10), ('must', 9), ('or', 9), ('Bennet', 9), ('have', 9), ('no', 9), ('are', 9)]\n"
     ]
    }
   ],
   "source": [
    "top_words = sorted(unique_words.items(), key=lambda key_val_tuple: key_val_tuple[1], reverse=True)\n",
    "\n",
    "print(top_words[:25])"
   ]
  },
  {
   "cell_type": "markdown",
   "metadata": {},
   "source": [
    "# Data Wrangling with Python: Activity 3"
   ]
  },
  {
   "cell_type": "markdown",
   "metadata": {},
   "source": [
    "1) Look up the definition of permutations and dropwhile from itertools."
   ]
  },
  {
   "cell_type": "code",
   "execution_count": 2,
   "metadata": {},
   "outputs": [],
   "source": [
    "from itertools import permutations,dropwhile\n",
    "permutations?\n",
    "dropwhile?"
   ]
  },
  {
   "cell_type": "markdown",
   "metadata": {},
   "source": [
    "2) Write an expression to generate all the possible three-digit numbers using 0, 1, and 2."
   ]
  },
  {
   "cell_type": "code",
   "execution_count": 3,
   "metadata": {},
   "outputs": [
    {
     "data": {
      "text/plain": [
       "<itertools.permutations at 0x109941530>"
      ]
     },
     "execution_count": 3,
     "metadata": {},
     "output_type": "execute_result"
    }
   ],
   "source": [
    "permutations(range(3))"
   ]
  },
  {
   "cell_type": "markdown",
   "metadata": {},
   "source": [
    "3) Loop over the iterator expression you generated before. Print each element that's returned by the iterator. Use assert and isinstance to make sure that the elements are of the tuple type"
   ]
  },
  {
   "cell_type": "code",
   "execution_count": 5,
   "metadata": {},
   "outputs": [
    {
     "name": "stdout",
     "output_type": "stream",
     "text": [
      "(0, 1, 2)\n",
      "(0, 2, 1)\n",
      "(1, 0, 2)\n",
      "(1, 2, 0)\n",
      "(2, 0, 1)\n",
      "(2, 1, 0)\n"
     ]
    }
   ],
   "source": [
    "for number in permutations(range(3)):\n",
    "    print(number)\n",
    "    assert isinstance (number, tuple)"
   ]
  },
  {
   "cell_type": "markdown",
   "metadata": {},
   "source": [
    "4) Write the loop again using dropwhile with a lambda expression to drop any leading zeros from the tuples. As an example, (0, 1, 2) will become [0, 2]. Also, cast the output of dropwhile to a list."
   ]
  },
  {
   "cell_type": "code",
   "execution_count": 8,
   "metadata": {},
   "outputs": [
    {
     "name": "stdout",
     "output_type": "stream",
     "text": [
      "[2, 1, 0]\n"
     ]
    }
   ],
   "source": [
    "from itertools import dropwhile\n",
    "import operator\n",
    "\n",
    "number = list(dropwhile(operator.not_, number))\n",
    "print(number)"
   ]
  },
  {
   "cell_type": "code",
   "execution_count": 35,
   "metadata": {},
   "outputs": [
    {
     "name": "stdout",
     "output_type": "stream",
     "text": [
      "[1, 2]\n",
      "[2, 1]\n",
      "[1, 0, 2]\n",
      "[1, 2, 0]\n",
      "[2, 0, 1]\n",
      "[2, 1, 0]\n"
     ]
    }
   ],
   "source": [
    "for number in permutations(range(3)):\n",
    "\n",
    "    print(list(dropwhile(lambda x: x ==0, number)))"
   ]
  },
  {
   "cell_type": "markdown",
   "metadata": {},
   "source": [
    "5) Check the actual type that dropwhile returns."
   ]
  },
  {
   "cell_type": "code",
   "execution_count": 28,
   "metadata": {},
   "outputs": [
    {
     "ename": "TypeError",
     "evalue": "type() takes 1 positional argument but 2 were given",
     "output_type": "error",
     "traceback": [
      "\u001b[0;31m---------------------------------------------------------------------------\u001b[0m",
      "\u001b[0;31mTypeError\u001b[0m                                 Traceback (most recent call last)",
      "\u001b[0;32m<ipython-input-28-8cfda0354104>\u001b[0m in \u001b[0;36m<module>\u001b[0;34m\u001b[0m\n\u001b[0;32m----> 1\u001b[0;31m \u001b[0mtype\u001b[0m\u001b[0;34m(\u001b[0m\u001b[0;32mlambda\u001b[0m \u001b[0mx\u001b[0m\u001b[0;34m:\u001b[0m \u001b[0mx\u001b[0m \u001b[0;34m<=\u001b[0m\u001b[0;36m0\u001b[0m\u001b[0;34m,\u001b[0m \u001b[0mnumber\u001b[0m\u001b[0;34m)\u001b[0m\u001b[0;34m\u001b[0m\u001b[0;34m\u001b[0m\u001b[0m\n\u001b[0m",
      "\u001b[0;31mTypeError\u001b[0m: type() takes 1 positional argument but 2 were given"
     ]
    }
   ],
   "source": [
    "def type(number):\n",
    "    return number.format(number)"
   ]
  },
  {
   "cell_type": "markdown",
   "metadata": {},
   "source": [
    "6) Combine the preceding code into one block, and this time write a separate function where you will pass the list generated from dropwhile, and the function will return the whole number contained in the list. As an example, if you pass [1, 2] to the function, it will return 12. Make sure that the return type is indeed a number and not a string. Although this task can be achieved using other tricks, we require that you treat the incoming list as a stack in the function and generate the number by reading the individual digits from the stack."
   ]
  },
  {
   "cell_type": "code",
   "execution_count": 36,
   "metadata": {},
   "outputs": [],
   "source": [
    "import math\n",
    "\n",
    "def numberconv(number_stack):\n",
    "\n",
    "    final_number = 0\n",
    "\n",
    "    for i in range(0, len(number_stack)):\n",
    "\n",
    "        final_number += (number_stack.pop() * (math.pow(10, i)))\n",
    "\n",
    "        return final_number\n",
    "\n",
    "    for number in permutations(range(3)):\n",
    "\n",
    "        number_stack = list(dropwhile(lambda x: x <= 0, number_tuple))\n",
    "\n",
    "        print(numberconv(number_stack))"
   ]
  },
  {
   "cell_type": "markdown",
   "metadata": {},
   "source": [
    "# # Data Wrangling with Python: Activity 4"
   ]
  },
  {
   "cell_type": "markdown",
   "metadata": {},
   "source": [
    "1) Import zip_longest from itertools. Create a function to zip header, line and fillvalue=None."
   ]
  },
  {
   "cell_type": "code",
   "execution_count": 38,
   "metadata": {},
   "outputs": [],
   "source": [
    "from itertools import zip_longest\n",
    "def return_dict_from_csv_line(header, line):\n",
    "    zipped_line = zip_longest(header, line, fillvalue=None)"
   ]
  },
  {
   "cell_type": "markdown",
   "metadata": {},
   "source": [
    "2) Open the accompanying sales_record.csv file from the GitHub link by using r mode inside a with block and first check that it is opened."
   ]
  },
  {
   "cell_type": "code",
   "execution_count": 48,
   "metadata": {},
   "outputs": [],
   "source": [
    "sales_record = \"https://raw.githubusercontent.com/TrainingByPackt/Data-Wrangling-with-Python/master/Lesson02/Activity04/sales_record.csv\""
   ]
  },
  {
   "cell_type": "code",
   "execution_count": 49,
   "metadata": {},
   "outputs": [
    {
     "ename": "NameError",
     "evalue": "name 'Lesson02' is not defined",
     "output_type": "error",
     "traceback": [
      "\u001b[0;31m---------------------------------------------------------------------------\u001b[0m",
      "\u001b[0;31mNameError\u001b[0m                                 Traceback (most recent call last)",
      "\u001b[0;32m<ipython-input-49-20aa4a2f6e07>\u001b[0m in \u001b[0;36m<module>\u001b[0;34m\u001b[0m\n\u001b[0;32m----> 1\u001b[0;31m \u001b[0mfd\u001b[0m \u001b[0;34m=\u001b[0m \u001b[0mopen\u001b[0m\u001b[0;34m(\u001b[0m\u001b[0mLesson02\u001b[0m\u001b[0;34m/\u001b[0m\u001b[0mActivity04\u001b[0m\u001b[0;34m/\u001b[0m\u001b[0msales_record\u001b[0m\u001b[0;34m.\u001b[0m\u001b[0mcsv\u001b[0m\u001b[0;34m,\u001b[0m \u001b[0;34m\"r\"\u001b[0m\u001b[0;34m)\u001b[0m\u001b[0;34m\u001b[0m\u001b[0;34m\u001b[0m\u001b[0m\n\u001b[0m\u001b[1;32m      2\u001b[0m \u001b[0mfirst_line\u001b[0m \u001b[0;34m=\u001b[0m \u001b[0mfd\u001b[0m\u001b[0;34m.\u001b[0m\u001b[0mreadline\u001b[0m\u001b[0;34m(\u001b[0m\u001b[0;34m)\u001b[0m\u001b[0;34m\u001b[0m\u001b[0;34m\u001b[0m\u001b[0m\n\u001b[1;32m      3\u001b[0m \u001b[0;34m\u001b[0m\u001b[0m\n\u001b[1;32m      4\u001b[0m \u001b[0mheader\u001b[0m \u001b[0;34m=\u001b[0m \u001b[0mfirst_line\u001b[0m\u001b[0;34m.\u001b[0m\u001b[0mreplace\u001b[0m\u001b[0;34m(\u001b[0m\u001b[0;34m\"\\n\"\u001b[0m\u001b[0;34m,\u001b[0m \u001b[0;34m\"\"\u001b[0m\u001b[0;34m)\u001b[0m\u001b[0;34m.\u001b[0m\u001b[0msplit\u001b[0m\u001b[0;34m(\u001b[0m\u001b[0;34m\",\"\u001b[0m\u001b[0;34m)\u001b[0m\u001b[0;34m\u001b[0m\u001b[0;34m\u001b[0m\u001b[0m\n\u001b[1;32m      5\u001b[0m \u001b[0;34m\u001b[0m\u001b[0m\n",
      "\u001b[0;31mNameError\u001b[0m: name 'Lesson02' is not defined"
     ]
    }
   ],
   "source": [
    "fd = open(Lesson02/Activity04/sales_record.csv, \"r\") \n",
    "first_line = fd.readline()\n",
    "\n",
    "header = first_line.replace(\"\\n\", \"\").split(\",\")\n",
    "\n",
    "for i, line in enumerate(fd):\n",
    "\n",
    "    line = line.replace(\"\\n\", \"\").split(\",\")\n",
    "\n",
    "    d = return_dict_from_csv_line(header, line)\n",
    "\n",
    "    print(d)\n",
    "\n",
    "    if i > 10:\n",
    "\n",
    "        break"
   ]
  }
 ],
 "metadata": {
  "kernelspec": {
   "display_name": "Python 3",
   "language": "python",
   "name": "python3"
  },
  "language_info": {
   "codemirror_mode": {
    "name": "ipython",
    "version": 3
   },
   "file_extension": ".py",
   "mimetype": "text/x-python",
   "name": "python",
   "nbconvert_exporter": "python",
   "pygments_lexer": "ipython3",
   "version": "3.7.6"
  }
 },
 "nbformat": 4,
 "nbformat_minor": 4
}
