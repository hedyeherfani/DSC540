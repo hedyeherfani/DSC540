{
 "cells": [
  {
   "cell_type": "code",
   "execution_count": 1,
   "metadata": {},
   "outputs": [],
   "source": [
    "import sqlite3\n",
    "conn = sqlite3.connect(\"petsdb\")"
   ]
  },
  {
   "cell_type": "code",
   "execution_count": 2,
   "metadata": {},
   "outputs": [],
   "source": [
    "def is_opened(conn):\n",
    "    try:\n",
    "        conn.execute(\"SELECT * FROM persons LIMIT 1\")\n",
    "        return True\n",
    "    except sqlite3.ProgrammingError as e:\n",
    "        print(\"Connection closed {}\".format(e))\n",
    "        return False\n",
    "        print(is_opened(conn))"
   ]
  },
  {
   "cell_type": "code",
   "execution_count": 3,
   "metadata": {},
   "outputs": [],
   "source": [
    "conn = sqlite3.connect(\"petsdb\")\n",
    "c = conn.cursor()"
   ]
  },
  {
   "cell_type": "code",
   "execution_count": 4,
   "metadata": {},
   "outputs": [
    {
     "name": "stdout",
     "output_type": "stream",
     "text": [
      "There are 2 people aged 5\n",
      "There are 1 people aged 6\n",
      "There are 1 people aged 7\n",
      "There are 3 people aged 8\n",
      "There are 1 people aged 9\n",
      "There are 2 people aged 11\n",
      "There are 3 people aged 12\n",
      "There are 1 people aged 13\n",
      "There are 4 people aged 14\n",
      "There are 2 people aged 16\n",
      "There are 2 people aged 17\n",
      "There are 3 people aged 18\n",
      "There are 1 people aged 19\n",
      "There are 3 people aged 22\n",
      "There are 2 people aged 23\n",
      "There are 3 people aged 24\n",
      "There are 2 people aged 25\n",
      "There are 1 people aged 27\n",
      "There are 1 people aged 30\n",
      "There are 3 people aged 31\n",
      "There are 1 people aged 32\n",
      "There are 1 people aged 33\n",
      "There are 2 people aged 34\n",
      "There are 3 people aged 35\n",
      "There are 3 people aged 36\n",
      "There are 1 people aged 37\n",
      "There are 2 people aged 39\n",
      "There are 1 people aged 40\n",
      "There are 1 people aged 42\n",
      "There are 2 people aged 44\n",
      "There are 2 people aged 48\n",
      "There are 1 people aged 49\n",
      "There are 1 people aged 50\n",
      "There are 2 people aged 51\n",
      "There are 2 people aged 52\n",
      "There are 2 people aged 53\n",
      "There are 2 people aged 54\n",
      "There are 1 people aged 58\n",
      "There are 1 people aged 59\n",
      "There are 1 people aged 60\n",
      "There are 1 people aged 61\n",
      "There are 2 people aged 62\n",
      "There are 1 people aged 63\n",
      "There are 2 people aged 65\n",
      "There are 2 people aged 66\n",
      "There are 1 people aged 67\n",
      "There are 3 people aged 68\n",
      "There are 1 people aged 69\n",
      "There are 1 people aged 70\n",
      "There are 4 people aged 71\n",
      "There are 1 people aged 72\n",
      "There are 5 people aged 73\n",
      "There are 3 people aged 74\n"
     ]
    }
   ],
   "source": [
    "for ppl, age in c.execute(\"SELECT count(*), age FROM persons GROUP BY age\"):\n",
    "    print(\"There are {} people aged {}\".format(ppl, age))"
   ]
  },
  {
   "cell_type": "code",
   "execution_count": 9,
   "metadata": {},
   "outputs": [
    {
     "name": "stdout",
     "output_type": "stream",
     "text": [
      "Maximum number of people is 5 and came from 73 age group\n"
     ]
    }
   ],
   "source": [
    "for ppl, age in c.execute(\n",
    "    \"SELECT count(*), age FROM persons GROUP BY age ORDER BY count(*) DESC\"):\n",
    "    print(\"Maximum number of people is {} and came from {} age group\".format(ppl, age))\n",
    "    break"
   ]
  },
  {
   "cell_type": "code",
   "execution_count": 10,
   "metadata": {},
   "outputs": [
    {
     "name": "stdout",
     "output_type": "stream",
     "text": [
      "(60,)\n"
     ]
    }
   ],
   "source": [
    "res = c.execute(\"SELECT count(*) FROM persons WHERE last_name IS null\")\n",
    "for row in res:\n",
    "    print(row)"
   ]
  },
  {
   "cell_type": "code",
   "execution_count": 12,
   "metadata": {},
   "outputs": [
    {
     "name": "stdout",
     "output_type": "stream",
     "text": [
      "43 people have more than one pet\n"
     ]
    }
   ],
   "source": [
    "res = c.execute(\"SELECT count(*) FROM (SELECT count(owner_id) FROM pets GROUP BY owner_id HAVING count(owner_id) >1)\")\n",
    "for row in res:\n",
    "    print(\"{} people have more than one pet\".format(row[0]))"
   ]
  },
  {
   "cell_type": "code",
   "execution_count": 13,
   "metadata": {},
   "outputs": [
    {
     "name": "stdout",
     "output_type": "stream",
     "text": [
      "(36,)\n"
     ]
    }
   ],
   "source": [
    "res = c.execute(\"SELECT count(*) FROM pets WHERE treatment_done=1\")\n",
    "for row in res:\n",
    "    print(row)"
   ]
  },
  {
   "cell_type": "code",
   "execution_count": 14,
   "metadata": {},
   "outputs": [
    {
     "name": "stdout",
     "output_type": "stream",
     "text": [
      "(16,)\n"
     ]
    }
   ],
   "source": [
    "res = c.execute(\"SELECT count(*) FROM pets WHERE treatment_done=1 AND pet_type IS NOT null\")\n",
    "for row in res:\n",
    "    print(row)"
   ]
  },
  {
   "cell_type": "code",
   "execution_count": 15,
   "metadata": {},
   "outputs": [
    {
     "name": "stdout",
     "output_type": "stream",
     "text": [
      "(49,)\n"
     ]
    }
   ],
   "source": [
    "res = c.execute(\"SELECT count(*) FROM pets JOIN persons ON pets.owner_id = persons.id WHERE persons.city='east port'\")\n",
    "for row in res:\n",
    "    print(row)"
   ]
  },
  {
   "cell_type": "code",
   "execution_count": 16,
   "metadata": {},
   "outputs": [
    {
     "name": "stdout",
     "output_type": "stream",
     "text": [
      "(11,)\n"
     ]
    }
   ],
   "source": [
    "res = c.execute(\"SELECT count(*) FROM pets JOIN persons ON pets.owner_id = persons.id WHERE persons.city='east port' AND pets.treatment_done=1\")\n",
    "for row in res:\n",
    "    print(row)"
   ]
  }
 ],
 "metadata": {
  "kernelspec": {
   "display_name": "Python 3",
   "language": "python",
   "name": "python3"
  },
  "language_info": {
   "codemirror_mode": {
    "name": "ipython",
    "version": 3
   },
   "file_extension": ".py",
   "mimetype": "text/x-python",
   "name": "python",
   "nbconvert_exporter": "python",
   "pygments_lexer": "ipython3",
   "version": "3.7.6"
  }
 },
 "nbformat": 4,
 "nbformat_minor": 4
}
